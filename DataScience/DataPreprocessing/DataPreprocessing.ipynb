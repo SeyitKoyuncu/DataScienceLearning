{
 "cells": [
  {
   "cell_type": "markdown",
   "metadata": {},
   "source": [
    "# Import Libraries"
   ]
  },
  {
   "cell_type": "code",
   "execution_count": 17,
   "metadata": {},
   "outputs": [],
   "source": [
    "import numpy as np\n",
    "import pandas as pd\n",
    "import matplotlib.pyplot as plt"
   ]
  },
  {
   "cell_type": "markdown",
   "metadata": {},
   "source": [
    "## Read Datas From CSV"
   ]
  },
  {
   "cell_type": "code",
   "execution_count": null,
   "metadata": {},
   "outputs": [],
   "source": [
    "datas = pd.read_csv('datas.csv') #read csv file with pandas library\n",
    "boy = datas[['boy']] #take boy variables\n",
    "boykilo = datas[['boy', 'kilo']]\n",
    "print(boykilo)\n",
    "print(boy) #print boy variables"
   ]
  },
  {
   "cell_type": "markdown",
   "metadata": {},
   "source": [
    "# Missing Datas"
   ]
  },
  {
   "cell_type": "markdown",
   "metadata": {},
   "source": [
    "Import sklearn"
   ]
  },
  {
   "cell_type": "code",
   "execution_count": 19,
   "metadata": {},
   "outputs": [],
   "source": [
    "from sklearn.impute import SimpleImputer"
   ]
  },
  {
   "cell_type": "code",
   "execution_count": null,
   "metadata": {},
   "outputs": [],
   "source": [
    "MissingDatas = pd.read_csv('MissingDatas.csv')\n",
    "\n",
    "imputer = SimpleImputer(missing_values = np.nan, strategy = 'mean') #create imputer for change np.nan values with mean\n",
    "\n",
    "Yas =   MissingDatas.iloc[:, 1:4].values\n",
    "print(Yas)\n",
    "\n",
    "imputer = imputer.fit(Yas[:,1:4]) #prepare imputer for take mean of datas so learnt to imputer what it have to do\n",
    "Yas[:,1:4] = imputer.transform(Yas[:,1:4]) #fill the missing values in your data set with imputer ' s mean so apply imputer task to the your variable\n",
    "print(Yas)"
   ]
  },
  {
   "cell_type": "markdown",
   "metadata": {},
   "source": [
    "## Encoding\n"
   ]
  },
  {
   "cell_type": "markdown",
   "metadata": {},
   "source": [
    "Label Encoding "
   ]
  },
  {
   "cell_type": "code",
   "execution_count": null,
   "metadata": {},
   "outputs": [],
   "source": [
    "ulke = MissingDatas.iloc[:,0:1].values\n",
    "#print(ulke)\n",
    "\n",
    "from sklearn import preprocessing   \n",
    "\n",
    "le = preprocessing.LabelEncoder()\n",
    "\n",
    "ulke[:, 0] = le.fit_transform( MissingDatas.iloc[:,0])\n",
    "print(ulke)"
   ]
  },
  {
   "cell_type": "markdown",
   "metadata": {},
   "source": [
    "One Hot Encoding"
   ]
  },
  {
   "cell_type": "code",
   "execution_count": null,
   "metadata": {},
   "outputs": [],
   "source": [
    "ohe = preprocessing.OneHotEncoder()\n",
    "\n",
    "ulke = ohe.fit_transform(ulke).toarray()\n",
    "print(ulke) "
   ]
  },
  {
   "cell_type": "markdown",
   "metadata": {},
   "source": [
    "## Cut / Concat DataFrames"
   ]
  },
  {
   "cell_type": "code",
   "execution_count": null,
   "metadata": {},
   "outputs": [],
   "source": [
    "result = pd.DataFrame(data = ulke, index = range(22), columns = ['fr', 'tr', 'us']) #create a data frame\n",
    "print(result)\n",
    "\n",
    "result2 = pd.DataFrame(data = Yas, index = range(22), columns = ['boy', 'kilo', 'yas']) #create a data frame\n",
    "print(result2)\n",
    "\n",
    "cinsiyet = MissingDatas.iloc[:,-1].values\n",
    "result3 = pd.DataFrame(data = cinsiyet, index = range(22), columns = ['cinsiyet'] ) #dependent variables\n",
    "print(result3)\n"
   ]
  },
  {
   "cell_type": "code",
   "execution_count": null,
   "metadata": {},
   "outputs": [],
   "source": [
    "s = pd.concat([result, result2], axis = 1) #0 for concat with top to bottom, 1 for concat with left to right\n",
    "#independent variables\n",
    "print(s)\n",
    "\n",
    "s2 = pd.concat([s,result3], axis = 1)\n",
    "#all data set\n",
    "print(s2)\n",
    "\n"
   ]
  },
  {
   "cell_type": "markdown",
   "metadata": {},
   "source": [
    "## Train and Test Sets\n"
   ]
  },
  {
   "cell_type": "code",
   "execution_count": 25,
   "metadata": {},
   "outputs": [],
   "source": [
    "from sklearn.model_selection import train_test_split\n",
    "\n",
    "x_train, x_test, y_train, y_test = train_test_split(s,result3,test_size=0.33,random_state=0) #33% for test set, 67% for train set"
   ]
  },
  {
   "cell_type": "markdown",
   "metadata": {},
   "source": [
    "## Feature Scaling"
   ]
  },
  {
   "cell_type": "code",
   "execution_count": 26,
   "metadata": {},
   "outputs": [],
   "source": [
    "from sklearn.preprocessing import StandardScaler\n",
    "\n",
    "sc = StandardScaler()\n",
    "\n",
    "X_train = sc.fit_transform(x_train)\n",
    "X_test = sc.fit_transform(x_test)"
   ]
  }
 ],
 "metadata": {
  "interpreter": {
   "hash": "aaf9547f3e3ae86318eedba28ed2556756ae8fa85524cf9b0441514d781f03bc"
  },
  "kernelspec": {
   "display_name": "Python 3.10.4 64-bit",
   "language": "python",
   "name": "python3"
  },
  "language_info": {
   "codemirror_mode": {
    "name": "ipython",
    "version": 3
   },
   "file_extension": ".py",
   "mimetype": "text/x-python",
   "name": "python",
   "nbconvert_exporter": "python",
   "pygments_lexer": "ipython3",
   "version": "3.10.4"
  },
  "orig_nbformat": 4
 },
 "nbformat": 4,
 "nbformat_minor": 2
}
