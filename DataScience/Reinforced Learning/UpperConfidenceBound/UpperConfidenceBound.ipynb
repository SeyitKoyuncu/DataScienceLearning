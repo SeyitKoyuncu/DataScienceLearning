{
 "cells": [
  {
   "cell_type": "markdown",
   "metadata": {},
   "source": [
    "# Upper Confidence Bound"
   ]
  },
  {
   "cell_type": "markdown",
   "metadata": {},
   "source": [
    "### Import Libraries"
   ]
  },
  {
   "cell_type": "code",
   "execution_count": 24,
   "metadata": {},
   "outputs": [],
   "source": [
    "import numpy as np \n",
    "import pandas as pd\n",
    "import matplotlib.pyplot as plt"
   ]
  },
  {
   "cell_type": "markdown",
   "metadata": {},
   "source": [
    "### Import datas"
   ]
  },
  {
   "cell_type": "code",
   "execution_count": 25,
   "metadata": {},
   "outputs": [],
   "source": [
    "datas = pd.read_csv('Ads_CTR_Optimisation.csv')"
   ]
  },
  {
   "cell_type": "markdown",
   "metadata": {},
   "source": [
    "### Use UCB"
   ]
  },
  {
   "cell_type": "code",
   "execution_count": 26,
   "metadata": {},
   "outputs": [
    {
     "name": "stdout",
     "output_type": "stream",
     "text": [
      "1866\n"
     ]
    }
   ],
   "source": [
    "import math\n",
    "\n",
    "n = 10000 #rows of my datas \n",
    "adv_count = 10 #columns of my datas\n",
    "prizes = [0] * adv_count #we have 10 advertiesment so we need array which have 10 element\n",
    "clicked = [0] * adv_count\n",
    "choiced = []\n",
    "\n",
    "sum = 0\n",
    "ucb = 0\n",
    "\n",
    "\n",
    "for n in range(1,n):\n",
    "    choice = 0 \n",
    "    max_ucb = 0\n",
    "    for i in range(0,adv_count):\n",
    "        if clicked[i] > 0:\n",
    "            percentage = prizes[i] / clicked[i]\n",
    "            delta = math.sqrt(3/2 * math.log(n) / clicked[i]) \n",
    "            ucb = percentage + delta\n",
    "        else:\n",
    "            ucb = n * 10\n",
    "        if max_ucb < ucb:\n",
    "            max_ucb = ucb\n",
    "            choice = i\n",
    "\n",
    "    choiced.append(choice)\n",
    "    clicked[choice] = clicked[choice] + 1\n",
    "    prizes[choice] = prizes[choice] + prize\n",
    "    prize = datas.values[n,choice]\n",
    "    sum = sum + prize\n",
    "\n",
    "print(sum)\n",
    "    \n"
   ]
  },
  {
   "cell_type": "markdown",
   "metadata": {},
   "source": [
    "### Plot "
   ]
  },
  {
   "cell_type": "code",
   "execution_count": 27,
   "metadata": {},
   "outputs": [
    {
     "data": {
      "image/png": "[encoded data removed]",
      "text/plain": [
       "<Figure size 432x288 with 1 Axes>"
      ]
     },
     "metadata": {
      "needs_background": "light"
     },
     "output_type": "display_data"
    }
   ],
   "source": [
    "plt.hist(choiced)\n",
    "plt.show()"
   ]
  }
 ],
 "metadata": {
  "kernelspec": {
   "display_name": "Python 3.10.4 64-bit",
   "language": "python",
   "name": "python3"
  },
  "language_info": {
   "codemirror_mode": {
    "name": "ipython",
    "version": 3
   },
   "file_extension": ".py",
   "mimetype": "text/x-python",
   "name": "python",
   "nbconvert_exporter": "python",
   "pygments_lexer": "ipython3",
   "version": "3.10.4"
  },
  "orig_nbformat": 4,
  "vscode": {
   "interpreter": {
    "hash": "aaf9547f3e3ae86318eedba28ed2556756ae8fa85524cf9b0441514d781f03bc"
   }
  }
 },
 "nbformat": 4,
 "nbformat_minor": 2
}
