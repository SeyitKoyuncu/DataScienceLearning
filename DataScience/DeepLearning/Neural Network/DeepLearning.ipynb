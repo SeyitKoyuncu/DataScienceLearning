{
 "cells": [
  {
   "cell_type": "markdown",
   "metadata": {},
   "source": [
    "# Neural Network"
   ]
  },
  {
   "cell_type": "markdown",
   "metadata": {},
   "source": [
    "### Import Libraries"
   ]
  },
  {
   "cell_type": "code",
   "execution_count": 1,
   "metadata": {},
   "outputs": [],
   "source": [
    "import numpy as np \n",
    "import matplotlib.pyplot as plt\n",
    "import pandas as pd"
   ]
  },
  {
   "cell_type": "markdown",
   "metadata": {},
   "source": [
    "### Import Dataset"
   ]
  },
  {
   "cell_type": "code",
   "execution_count": 3,
   "metadata": {},
   "outputs": [],
   "source": [
    "datas = pd.read_csv('Churn_Modelling.csv')"
   ]
  },
  {
   "cell_type": "markdown",
   "metadata": {},
   "source": [
    "### Dependent/Independet Variables"
   ]
  },
  {
   "cell_type": "code",
   "execution_count": 4,
   "metadata": {},
   "outputs": [],
   "source": [
    "X = datas.iloc[:, 3:13].values\n",
    "Y = datas.iloc[:, -1:].values"
   ]
  },
  {
   "cell_type": "markdown",
   "metadata": {},
   "source": [
    "### Encoding"
   ]
  },
  {
   "cell_type": "code",
   "execution_count": 5,
   "metadata": {},
   "outputs": [],
   "source": [
    "from sklearn import preprocessing\n",
    "\n",
    "le = preprocessing.LabelEncoder()\n",
    "le2 = preprocessing.LabelEncoder()\n",
    "X[:, 1] = le.fit_transform(X[:, 1])\n",
    "X[:, 2] = le2.fit_transform(X[:, 2])\n",
    "temp = X\n",
    "\n",
    "from sklearn.preprocessing import OneHotEncoder\n",
    "from sklearn.compose import ColumnTransformer\n",
    "\n",
    "ohe = ColumnTransformer([(\"ohe\", OneHotEncoder(dtype=float), [1])],\n",
    "    remainder=\"passthrough\"\n",
    ")\n",
    "\n",
    "X = ohe.fit_transform(X)\n",
    "X = X[:, 1:]"
   ]
  },
  {
   "cell_type": "markdown",
   "metadata": {},
   "source": [
    "### Test an Train Sets"
   ]
  },
  {
   "cell_type": "code",
   "execution_count": 6,
   "metadata": {},
   "outputs": [],
   "source": [
    "from sklearn.model_selection import train_test_split\n",
    "\n",
    "x_train, x_test, y_train, y_test = train_test_split(X, Y, test_size=0.33, random_state=0) #33% for test set, 67% for train set"
   ]
  },
  {
   "cell_type": "markdown",
   "metadata": {},
   "source": [
    "### Feature Scaling"
   ]
  },
  {
   "cell_type": "code",
   "execution_count": 7,
   "metadata": {},
   "outputs": [],
   "source": [
    "from sklearn.preprocessing import StandardScaler\n",
    "\n",
    "sc = StandardScaler()\n",
    "\n",
    "X_train = sc.fit_transform(x_train)\n",
    "X_test = sc.fit_transform(x_test)"
   ]
  },
  {
   "cell_type": "markdown",
   "metadata": {},
   "source": [
    "### Import Keras"
   ]
  },
  {
   "cell_type": "code",
   "execution_count": 8,
   "metadata": {},
   "outputs": [],
   "source": [
    "import keras\n",
    "from keras.models import Sequential \n",
    "from keras.layers import Dense\n",
    "\n",
    "classifier = Sequential() #we use clasifier for variable name because we try to predict 1 or 0 \n",
    "\n",
    "# Initializers define the way to set the initial random weights of Keras layers.\n",
    "classifier.add(Dense(6, kernel_initializer  = \"uniform\", activation = \"relu\", input_dim = 11)) #meaning of 6 is, we have dense layer which has 6 neuron (input layer) \n",
    "classifier.add(Dense(6, kernel_initializer  = \"uniform\", activation = \"relu\")) # added new layer, we dont use the input dim becasue we dont have connection with input layer. \n",
    "classifier.add(Dense(1, kernel_initializer  = \"uniform\", activation = \"sigmoid\")) # output layer\n",
    "# First denst layer have connection with input layer and second dense layer  but second dense layer dont have connection between input layer.\n",
    "\n",
    "classifier.compile(optimizer = 'adam', loss = 'binary_crossentropy', metrics = ['accuracy'])"
   ]
  },
  {
   "cell_type": "markdown",
   "metadata": {},
   "source": [
    "### Predict "
   ]
  },
  {
   "cell_type": "code",
   "execution_count": 51,
   "metadata": {},
   "outputs": [
    {
     "name": "stdout",
     "output_type": "stream",
     "text": [
      "Epoch 1/5\n",
      "210/210 [==============================] - 0s 739us/step - loss: 0.3933 - accuracy: 0.8369\n",
      "Epoch 2/5\n",
      "210/210 [==============================] - 0s 683us/step - loss: 0.3929 - accuracy: 0.8366\n",
      "Epoch 3/5\n",
      "210/210 [==============================] - 0s 684us/step - loss: 0.3931 - accuracy: 0.8375\n",
      "Epoch 4/5\n",
      "210/210 [==============================] - 0s 664us/step - loss: 0.3927 - accuracy: 0.8372\n",
      "Epoch 5/5\n",
      "210/210 [==============================] - 0s 728us/step - loss: 0.3928 - accuracy: 0.8376\n",
      "104/104 [==============================] - 0s 603us/step\n"
     ]
    }
   ],
   "source": [
    "classifier.fit(X_train, y_train, epochs = 5)\n",
    "y_pred = classifier.predict(X_test) \n",
    "y_pred = np.array(y_pred)\n",
    "y_pred = (y_pred > 0.5)"
   ]
  },
  {
   "cell_type": "markdown",
   "metadata": {},
   "source": [
    "### Confusion Matrix"
   ]
  },
  {
   "cell_type": "code",
   "execution_count": 52,
   "metadata": {},
   "outputs": [
    {
     "name": "stdout",
     "output_type": "stream",
     "text": [
      "[[2533   84]\n",
      " [ 433  250]]\n"
     ]
    }
   ],
   "source": [
    "from sklearn.metrics import confusion_matrix\n",
    "cm = confusion_matrix(y_test, y_pred)\n",
    "print(cm)"
   ]
  }
 ],
 "metadata": {
  "kernelspec": {
   "display_name": "Python 3.10.4 64-bit",
   "language": "python",
   "name": "python3"
  },
  "language_info": {
   "codemirror_mode": {
    "name": "ipython",
    "version": 3
   },
   "file_extension": ".py",
   "mimetype": "text/x-python",
   "name": "python",
   "nbconvert_exporter": "python",
   "pygments_lexer": "ipython3",
   "version": "3.10.4"
  },
  "orig_nbformat": 4,
  "vscode": {
   "interpreter": {
    "hash": "aaf9547f3e3ae86318eedba28ed2556756ae8fa85524cf9b0441514d781f03bc"
   }
  }
 },
 "nbformat": 4,
 "nbformat_minor": 2
}
