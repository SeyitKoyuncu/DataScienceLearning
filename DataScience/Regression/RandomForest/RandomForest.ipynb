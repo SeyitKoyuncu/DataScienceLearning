{
 "cells": [
  {
   "cell_type": "markdown",
   "metadata": {},
   "source": [
    "# Import Libraries"
   ]
  },
  {
   "cell_type": "code",
   "execution_count": 1,
   "metadata": {},
   "outputs": [],
   "source": [
    "import numpy as np\n",
    "import pandas as pd\n",
    "import matplotlib.pyplot as plt"
   ]
  },
  {
   "cell_type": "markdown",
   "metadata": {},
   "source": [
    "## Read Datas From CSV"
   ]
  },
  {
   "cell_type": "code",
   "execution_count": 2,
   "metadata": {},
   "outputs": [],
   "source": [
    "datas = pd.read_csv('Maaslar.csv') #read csv file with pandas librarys"
   ]
  },
  {
   "cell_type": "markdown",
   "metadata": {},
   "source": [
    "## Seperate Datas"
   ]
  },
  {
   "cell_type": "code",
   "execution_count": 3,
   "metadata": {},
   "outputs": [
    {
     "name": "stdout",
     "output_type": "stream",
     "text": [
      "[[ 1]\n",
      " [ 2]\n",
      " [ 3]\n",
      " [ 4]\n",
      " [ 5]\n",
      " [ 6]\n",
      " [ 7]\n",
      " [ 8]\n",
      " [ 9]\n",
      " [10]]\n",
      "[ 2250  2500  3000  4000  5500  7500 10000 15000 25000 50000]\n"
     ]
    }
   ],
   "source": [
    "x = datas.iloc[:, 1:2]\n",
    "y = datas.iloc[:, -1]\n",
    "\n",
    "X = x.values\n",
    "Y = y.values\n",
    "\n",
    "print(X)\n",
    "print(Y)"
   ]
  },
  {
   "cell_type": "markdown",
   "metadata": {},
   "source": [
    "# Feature Scaling"
   ]
  },
  {
   "cell_type": "code",
   "execution_count": 11,
   "metadata": {},
   "outputs": [
    {
     "name": "stdout",
     "output_type": "stream",
     "text": [
      "0     2250\n",
      "1     2500\n",
      "2     3000\n",
      "3     4000\n",
      "4     5500\n",
      "5     7500\n",
      "6    10000\n",
      "7    15000\n",
      "8    25000\n",
      "9    50000\n",
      "Name: maas, dtype: int64\n",
      "[ 2250  2500  3000  4000  5500  7500 10000 15000 25000 50000]\n"
     ]
    }
   ],
   "source": [
    "from sklearn.preprocessing import StandardScaler\n",
    "\n",
    "sc1 = StandardScaler()\n",
    "x_scale = sc1.fit_transform(X)\n",
    "\n",
    "sc2 = StandardScaler()\n",
    "y_scale = np.ravel(sc2.fit_transform(Y.reshape(-1,1)))"
   ]
  },
  {
   "cell_type": "markdown",
   "metadata": {},
   "source": [
    "# Random Forest"
   ]
  },
  {
   "cell_type": "code",
   "execution_count": 13,
   "metadata": {},
   "outputs": [
    {
     "name": "stdout",
     "output_type": "stream",
     "text": [
      "0     2250\n",
      "1     2500\n",
      "2     3000\n",
      "3     4000\n",
      "4     5500\n",
      "5     7500\n",
      "6    10000\n",
      "7    15000\n",
      "8    25000\n",
      "9    50000\n",
      "Name: maas, dtype: int64\n",
      "[ 2250  2500  3000  4000  5500  7500 10000 15000 25000 50000]\n",
      "predict = [8350.]\n"
     ]
    }
   ],
   "source": [
    "from sklearn.ensemble import RandomForestRegressor\n",
    "\n",
    "#n_estimators = how much decision tree will create, this code create 10 different decision tree\n",
    "RForest_reg = RandomForestRegressor(n_estimators = 10,random_state = 0)\n",
    "\n",
    "#.ravel() = The numpy module of Python provides a function called numpy.ravel, which is used to change a 2-dimensional array or a multi-dimensional array into a contiguous flattened array\n",
    "#(https://www.javatpoint.com/numpy-ravel#:~:text=numpy.-,ravel()%20in%20Python,source%20array%20or%20input%20array.)\n",
    "print(y)\n",
    "print(y.ravel())\n",
    "\n",
    "RForest_reg.fit(X,Y.ravel())\n",
    "predict = RForest_reg.predict([[6.5]])\n",
    "print(f\"predict = {predict}\")\n"
   ]
  },
  {
   "cell_type": "markdown",
   "metadata": {},
   "source": [
    "# Visulazing The Random Tree"
   ]
  },
  {
   "cell_type": "code",
   "execution_count": 17,
   "metadata": {},
   "outputs": [
    {
     "data": {
      "image/png": "[encoded data removed]",
      "text/plain": [
       "<Figure size 432x288 with 1 Axes>"
      ]
     },
     "metadata": {
      "needs_background": "light"
     },
     "output_type": "display_data"
    }
   ],
   "source": [
    "plt.scatter(X,Y)\n",
    "plt.plot(X,RForest_reg.predict(X),color = \"red\")\n",
    "\n",
    "z = X + 0.5\n",
    "k = X - 0.5\n",
    "\n",
    "plt.plot(X,RForest_reg.predict(z),color = \"yellow\")\n",
    "plt.plot(X,RForest_reg.predict(k),color = \"green\")\n",
    "\n",
    "plt.show()\n",
    "\n",
    "\n"
   ]
  }
 ],
 "metadata": {
  "kernelspec": {
   "display_name": "Python 3.10.4 64-bit",
   "language": "python",
   "name": "python3"
  },
  "language_info": {
   "codemirror_mode": {
    "name": "ipython",
    "version": 3
   },
   "file_extension": ".py",
   "mimetype": "text/x-python",
   "name": "python",
   "nbconvert_exporter": "python",
   "pygments_lexer": "ipython3",
   "version": "3.10.4"
  },
  "orig_nbformat": 4,
  "vscode": {
   "interpreter": {
    "hash": "aaf9547f3e3ae86318eedba28ed2556756ae8fa85524cf9b0441514d781f03bc"
   }
  }
 },
 "nbformat": 4,
 "nbformat_minor": 2
}
