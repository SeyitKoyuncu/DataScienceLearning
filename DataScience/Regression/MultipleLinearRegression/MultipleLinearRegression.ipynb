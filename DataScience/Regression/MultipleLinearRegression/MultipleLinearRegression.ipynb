{
 "cells": [
  {
   "cell_type": "markdown",
   "metadata": {},
   "source": [
    "# Import Libraries"
   ]
  },
  {
   "cell_type": "code",
   "execution_count": null,
   "metadata": {},
   "outputs": [],
   "source": [
    "import numpy as np\n",
    "import pandas as pd\n",
    "import matplotlib.pyplot as plt"
   ]
  },
  {
   "cell_type": "markdown",
   "metadata": {},
   "source": [
    "## Read Datas From CSV"
   ]
  },
  {
   "cell_type": "code",
   "execution_count": null,
   "metadata": {},
   "outputs": [],
   "source": [
    "datas = pd.read_csv('datas.csv') #read csv file with pandas library\n",
    "boy = datas[['boy']] #take boy variables\n",
    "boykilo = datas[['boy', 'kilo']]\n",
    "print(boykilo)\n",
    "print(boy) #print boy variables"
   ]
  },
  {
   "cell_type": "markdown",
   "metadata": {},
   "source": [
    "# Missing Datas"
   ]
  },
  {
   "cell_type": "markdown",
   "metadata": {},
   "source": [
    "Import sklearn"
   ]
  },
  {
   "cell_type": "code",
   "execution_count": null,
   "metadata": {},
   "outputs": [],
   "source": [
    "from sklearn.impute import SimpleImputer"
   ]
  },
  {
   "cell_type": "code",
   "execution_count": null,
   "metadata": {},
   "outputs": [],
   "source": [
    "MissingDatas = pd.read_csv('Datas.csv')\n",
    "\n",
    "imputer = SimpleImputer(missing_values = np.nan, strategy = 'mean') #create imputer for change np.nan values with mean\n",
    "\n",
    "Yas =   MissingDatas.iloc[:, 1:4].values\n",
    "print(Yas)\n",
    "\n",
    "imputer = imputer.fit(Yas[:,1:4]) #prepare imputer for take mean of datas so learnt to imputer what it have to do\n",
    "Yas[:,1:4] = imputer.transform(Yas[:,1:4]) #fill the missing values in your data set with imputer ' s mean so apply imputer task to the your variable\n",
    "print(Yas)"
   ]
  },
  {
   "cell_type": "markdown",
   "metadata": {},
   "source": [
    "## Encoding\n"
   ]
  },
  {
   "cell_type": "markdown",
   "metadata": {},
   "source": [
    "One Hot Encoding"
   ]
  },
  {
   "cell_type": "code",
   "execution_count": null,
   "metadata": {},
   "outputs": [],
   "source": [
    "ulke = MissingDatas.iloc[:,0:1].values\n",
    "gender = MissingDatas.iloc[:,-1:].values\n",
    "\n",
    "from sklearn import preprocessing   \n",
    "\n",
    "ohe = preprocessing.OneHotEncoder()\n",
    "\n",
    "ulke = ohe.fit_transform(ulke).toarray()\n",
    "gender = ohe.fit_transform(gender).toarray()\n",
    "print(gender) \n"
   ]
  },
  {
   "cell_type": "markdown",
   "metadata": {},
   "source": [
    "## Cut / Concat DataFrames"
   ]
  },
  {
   "cell_type": "code",
   "execution_count": null,
   "metadata": {},
   "outputs": [],
   "source": [
    "result = pd.DataFrame(data = ulke, index = range(22), columns = ['fr', 'tr', 'us']) #create a data frame\n",
    "print(result)\n",
    "\n",
    "result2 = pd.DataFrame(data = Yas, index = range(22), columns = ['boy', 'kilo', 'yas']) #create a data frame\n",
    "print(result2)\n",
    "\n",
    "cinsiyet = MissingDatas.iloc[:,-1].values\n",
    "result3 = pd.DataFrame(data = gender[:,:1], index = range(22), columns = ['cinsiyet'] ) #dependent variables\n",
    "print(result3)\n"
   ]
  },
  {
   "cell_type": "code",
   "execution_count": null,
   "metadata": {},
   "outputs": [],
   "source": [
    "s = pd.concat([result, result2], axis = 1) #0 for concat with top to bottom, 1 for concat with left to right\n",
    "#independent variables\n",
    "\n",
    "s2 = pd.concat([s,result3], axis = 1)\n",
    "#all data set\n",
    "print(s2)\n",
    "\n"
   ]
  },
  {
   "cell_type": "markdown",
   "metadata": {},
   "source": [
    "## Train and Test Sets\n"
   ]
  },
  {
   "cell_type": "code",
   "execution_count": null,
   "metadata": {},
   "outputs": [],
   "source": [
    "from sklearn.model_selection import train_test_split\n",
    "\n",
    "x_train, x_test, y_train, y_test = train_test_split(s,result3,test_size=0.33,random_state=0) #33% for test set, 67% for train set"
   ]
  },
  {
   "cell_type": "markdown",
   "metadata": {},
   "source": [
    "## Predict y_test"
   ]
  },
  {
   "cell_type": "code",
   "execution_count": null,
   "metadata": {},
   "outputs": [],
   "source": [
    "from sklearn.linear_model import LinearRegression\n",
    "\n",
    "regressor = LinearRegression()\n",
    "regressor.fit(x_train,y_train)\n",
    "\n",
    "y_pred = regressor.predict(x_test)\n",
    "print(y_pred)"
   ]
  },
  {
   "cell_type": "markdown",
   "metadata": {},
   "source": [
    "## Predict Boy"
   ]
  },
  {
   "cell_type": "code",
   "execution_count": null,
   "metadata": {},
   "outputs": [],
   "source": [
    "boy = s2.iloc[:,3:4].values\n",
    "\n",
    "left = s2.iloc[:,:3]\n",
    "right = s2.iloc[:,4:]\n",
    "\n",
    "data = pd.concat([left,right], axis = 1)\n",
    "\n",
    "x_train, x_test, y_train, y_test = train_test_split(data,boy,test_size=0.33,random_state=0) #33% for test set, 67% for train set\n",
    "\n",
    "regressorBoy = LinearRegression()\n",
    "regressorBoy.fit(x_train,y_train)\n",
    "\n",
    "y_predBoy = regressor.predict(x_test) \n",
    "#print(y_predBoy)\n"
   ]
  },
  {
   "cell_type": "markdown",
   "metadata": {},
   "source": [
    "## Backward Elimination"
   ]
  },
  {
   "cell_type": "code",
   "execution_count": 20,
   "metadata": {},
   "outputs": [
    {
     "name": "stdout",
     "output_type": "stream",
     "text": [
      "                            OLS Regression Results                            \n",
      "==============================================================================\n",
      "Dep. Variable:                      y   R-squared:                       0.884\n",
      "Model:                            OLS   Adj. R-squared:                  0.857\n",
      "Method:                 Least Squares   F-statistic:                     32.47\n",
      "Date:                Tue, 17 May 2022   Prob (F-statistic):           9.32e-08\n",
      "Time:                        22:09:29   Log-Likelihood:                -74.043\n",
      "No. Observations:                  22   AIC:                             158.1\n",
      "Df Residuals:                      17   BIC:                             163.5\n",
      "Df Model:                           4                                         \n",
      "Covariance Type:            nonrobust                                         \n",
      "==============================================================================\n",
      "                 coef    std err          t      P>|t|      [0.025      0.975]\n",
      "------------------------------------------------------------------------------\n",
      "x1           115.6583      6.734     17.175      0.000     101.451     129.866\n",
      "x2           109.0786      5.200     20.978      0.000      98.108     120.049\n",
      "x3           106.5445      7.090     15.026      0.000      91.585     121.504\n",
      "x4             0.9405      0.104      9.029      0.000       0.721       1.160\n",
      "x5           -11.1093      4.733     -2.347      0.031     -21.096      -1.123\n",
      "==============================================================================\n",
      "Omnibus:                        0.871   Durbin-Watson:                   2.719\n",
      "Prob(Omnibus):                  0.647   Jarque-Bera (JB):                0.459\n",
      "Skew:                           0.351   Prob(JB):                        0.795\n",
      "Kurtosis:                       2.910   Cond. No.                         397.\n",
      "==============================================================================\n",
      "\n",
      "Notes:\n",
      "[1] Standard Errors assume that the covariance matrix of the errors is correctly specified.\n"
     ]
    }
   ],
   "source": [
    "import statsmodels.api as sm\n",
    "\n",
    "x = np.append(arr = np.ones((22,1)).astype(int), values = data, axis = 1) #add constant value for Backward Elimination\n",
    "\n",
    "x_l = data.iloc[:,[0,1,2,3,4,5]].values\n",
    "x_l = np.array(x_l,dtype = float)\n",
    "model = sm.OLS(boy, x_l).fit() #sm.OLS(dependet variable, independent variable) / we want to look effect of independent variables to the dependent variable\n",
    "#print(model.summary())\n",
    "#we chechk the summary and we saw 4. element is bigger p value so we need to eliminate it \n",
    "\n",
    "\n",
    "#new model after eliminate 4. element\n",
    "x_l = data.iloc[:,[0,1,2,3,5]].values\n",
    "x_l = np.array(x_l,dtype = float)\n",
    "model = sm.OLS(boy, x_l).fit() #sm.OLS(dependet variable, independent variable) / we want to look effect of independent variables to the dependent variable\n",
    "print(model.summary())\n",
    "\n",
    "#then you can create new regressin when elimations is done and then you can chechk the success of the model"
   ]
  },
  {
   "cell_type": "markdown",
   "metadata": {},
   "source": [
    "## Feature Scaling"
   ]
  },
  {
   "cell_type": "code",
   "execution_count": null,
   "metadata": {},
   "outputs": [],
   "source": [
    "from sklearn.preprocessing import StandardScaler\n",
    "\n",
    "sc = StandardScaler()\n",
    "\n",
    "X_train = sc.fit_transform(x_train)\n",
    "X_test = sc.fit_transform(x_test)\n"
   ]
  }
 ],
 "metadata": {
  "interpreter": {
   "hash": "fb4569285eef3a3450cb62085a5b1e0da4bce0af555edc33dcf29baf3acc1368"
  },
  "kernelspec": {
   "display_name": "Python 3.10.4 64-bit",
   "language": "python",
   "name": "python3"
  },
  "language_info": {
   "codemirror_mode": {
    "name": "ipython",
    "version": 3
   },
   "file_extension": ".py",
   "mimetype": "text/x-python",
   "name": "python",
   "nbconvert_exporter": "python",
   "pygments_lexer": "ipython3",
   "version": "3.10.4"
  },
  "orig_nbformat": 4
 },
 "nbformat": 4,
 "nbformat_minor": 2
}
